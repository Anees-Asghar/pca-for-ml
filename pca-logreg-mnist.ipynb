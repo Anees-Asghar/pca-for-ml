{
 "cells": [
  {
   "cell_type": "markdown",
   "id": "9ff39180",
   "metadata": {},
   "source": [
    "In this notebook we will see how using PCA to project our data onto some Principle Components, and consequently reducing the size of our feature matrix, affects the time taken to fit the model and it's accuracy.\n",
    "\n",
    "Here we use a Logistic Regression Model to fit over the [MNIST dataset of handwritten digits.](http://yann.lecun.com/exdb/mnist/)"
   ]
  },
  {
   "cell_type": "markdown",
   "id": "6e36d51a",
   "metadata": {},
   "source": [
    "#### Libraries"
   ]
  },
  {
   "cell_type": "code",
   "execution_count": 1,
   "id": "8784b41e",
   "metadata": {},
   "outputs": [],
   "source": [
    "import os\n",
    "import time\n",
    "\n",
    "import numpy as np\n",
    "import pandas as pd\n",
    "from matplotlib import pyplot as plt\n",
    "\n",
    "from sklearn.datasets import fetch_openml\n",
    "\n",
    "from sklearn.preprocessing import StandardScaler\n",
    "from sklearn.model_selection import train_test_split\n",
    "\n",
    "from sklearn.decomposition import PCA\n",
    "from sklearn.linear_model import LogisticRegression\n",
    "\n",
    "%matplotlib inline"
   ]
  },
  {
   "cell_type": "markdown",
   "id": "e8fd414a",
   "metadata": {},
   "source": [
    "#### Load Data"
   ]
  },
  {
   "cell_type": "code",
   "execution_count": 2,
   "id": "10eac7fb",
   "metadata": {},
   "outputs": [],
   "source": [
    "# this may take a while\n",
    "data = fetch_openml('mnist_784', data_home=os.path.join('data', 'MNIST'))"
   ]
  },
  {
   "cell_type": "code",
   "execution_count": 3,
   "id": "c8fee10f",
   "metadata": {},
   "outputs": [
    {
     "name": "stdout",
     "output_type": "stream",
     "text": [
      "X: (70000, 784)\n",
      "y: (70000,)\n"
     ]
    }
   ],
   "source": [
    "# extract feature and target matrices\n",
    "X = data.data.to_numpy()\n",
    "y = data.target.to_numpy()\n",
    "\n",
    "n_initial = X.shape[1]\n",
    "\n",
    "print(f\"X: {X.shape}\")\n",
    "print(f\"y: {y.shape}\")"
   ]
  },
  {
   "cell_type": "markdown",
   "id": "1fb8e44b",
   "metadata": {},
   "source": [
    "#### Useful Functions"
   ]
  },
  {
   "cell_type": "code",
   "execution_count": 4,
   "id": "3fd7b826",
   "metadata": {},
   "outputs": [],
   "source": [
    "# display an example with 784 features as image\n",
    "def display_image(X, idx):\n",
    "    plt.imshow(X[idx, :].reshape((28, 28)), cmap='Greys')"
   ]
  },
  {
   "cell_type": "code",
   "execution_count": 5,
   "id": "beab5b6e",
   "metadata": {},
   "outputs": [
    {
     "data": {
      "image/png": "[encoded data removed]",
      "text/plain": [
       "<Figure size 432x288 with 1 Axes>"
      ]
     },
     "metadata": {
      "needs_background": "light"
     },
     "output_type": "display_data"
    }
   ],
   "source": [
    "# example\n",
    "display_image(X, 800)"
   ]
  },
  {
   "cell_type": "markdown",
   "id": "adbb7b4e",
   "metadata": {},
   "source": [
    "#### Split Data"
   ]
  },
  {
   "cell_type": "code",
   "execution_count": 6,
   "id": "57736509",
   "metadata": {},
   "outputs": [
    {
     "name": "stdout",
     "output_type": "stream",
     "text": [
      "Training Data -> X_train: (46900, 784), y_train: (46900,)\n",
      "Test Data -> X_test: (23100, 784), y_test: (23100,)\n"
     ]
    }
   ],
   "source": [
    "# train-test-split\n",
    "X_train, X_test, y_train, y_test = train_test_split(X, y, test_size=0.33, random_state=0)\n",
    "\n",
    "print(f\"Training Data -> X_train: {X_train.shape}, y_train: {y_train.shape}\")\n",
    "print(f\"Test Data -> X_test: {X_test.shape}, y_test: {y_test.shape}\")"
   ]
  },
  {
   "cell_type": "markdown",
   "id": "9a87887c",
   "metadata": {},
   "source": [
    "#### Scale Features"
   ]
  },
  {
   "cell_type": "code",
   "execution_count": 7,
   "id": "d39108a8",
   "metadata": {},
   "outputs": [],
   "source": [
    "# scale features\n",
    "scaler = StandardScaler().fit(X_train)\n",
    "X_train_norm = scaler.transform(X_train)\n",
    "X_test_norm = scaler.transform(X_test)"
   ]
  },
  {
   "cell_type": "markdown",
   "id": "ee05a72a",
   "metadata": {},
   "source": [
    "#### PCA"
   ]
  },
  {
   "cell_type": "code",
   "execution_count": 8,
   "id": "bc33d1bf",
   "metadata": {},
   "outputs": [],
   "source": [
    "# run and fit pca on scaled training data\n",
    "pca = PCA()\n",
    "pca.fit(X_train_norm)\n",
    "\n",
    "# project original data on PCs\n",
    "# note that we have not specified the no. of PCs, thus the\n",
    "# data is being projected on n_initial (784) PCs\n",
    "Z_train = pca.transform(X_train_norm)\n",
    "Z_test = pca.transform(X_test_norm)"
   ]
  },
  {
   "cell_type": "markdown",
   "id": "b569ab3a",
   "metadata": {},
   "source": [
    "#### Train Models"
   ]
  },
  {
   "cell_type": "code",
   "execution_count": 9,
   "id": "d3e930ad",
   "metadata": {},
   "outputs": [
    {
     "name": "stdout",
     "output_type": "stream",
     "text": [
      "For 1.0 variance retained, we need 784 principle components.\n",
      "Training model using 784 components...\n",
      "The time taken to train the model using 784 PCs is 138.58s.\n",
      "The accuracy for a model trained with 784 PCs is 90.95.\n",
      "------------------------------------------------------\n",
      "For 0.95 variance retained, we need 322 principle components.\n",
      "Training model using 322 components...\n",
      "The time taken to train the model using 322 PCs is 73.54s.\n",
      "The accuracy for a model trained with 322 PCs is 91.86.\n",
      "------------------------------------------------------\n",
      "For 0.9 variance retained, we need 229 principle components.\n",
      "Training model using 229 components...\n",
      "The time taken to train the model using 229 PCs is 60.56s.\n",
      "The accuracy for a model trained with 229 PCs is 91.85.\n",
      "------------------------------------------------------\n",
      "For 0.85 variance retained, we need 178 principle components.\n",
      "Training model using 178 components...\n",
      "The time taken to train the model using 178 PCs is 56.29s.\n",
      "The accuracy for a model trained with 178 PCs is 91.91.\n",
      "------------------------------------------------------\n"
     ]
    }
   ],
   "source": [
    "# the amount of variances we want to retain\n",
    "variances = [1.00, 0.95, 0.90, 0.85]\n",
    "\n",
    "# variables to see how models trained with different variance retained compare\n",
    "n_components = [] # number of principle components used\n",
    "accuracies = [] # the accuracy of each model on test set\n",
    "time_intervals = [] # the time it takes to fit the model\n",
    "\n",
    "for var in variances:\n",
    "    # find the no. of PCs n we need to reach this variance\n",
    "    n = 0\n",
    "    if var == 1.00: # in case var is 1.00, we'd simply use all the PCs\n",
    "        n = n_initial\n",
    "    else:\n",
    "        # increase until we have enough PCs to retain this variance (var)\n",
    "        while np.sum(pca.explained_variance_ratio_[:n]) < var:\n",
    "            n += 1\n",
    "\n",
    "    # record no. of PCs\n",
    "    print(f\"For {var} variance retained, we need {n} principle components.\")\n",
    "    n_components.append(n)\n",
    "    \n",
    "    # Reduce train and test matrices\n",
    "    Z_train_red = Z_train[:, :n]\n",
    "    Z_test_red = Z_test[:, :n]\n",
    "    \n",
    "    # train model on a Z (original data projected on n PCs)\n",
    "    print(f'Training model using {n} components...')\n",
    "    model = LogisticRegression(dual=False, max_iter=1000)\n",
    "    start = time.time()\n",
    "    model.fit(Z_train_red, y_train)\n",
    "    stop = time.time()\n",
    "    \n",
    "    # record time\n",
    "    time_taken = round(stop - start, 2)\n",
    "    print(f\"The time taken to train the model using {n} PCs is {time_taken}s.\")\n",
    "    time_intervals.append(time_taken) \n",
    "        \n",
    "    # predict and calculate accuracy on test set\n",
    "    y_pred = model.predict(Z_test_red)\n",
    "    acc = round(sum(y_pred == y_test) / y_test.size * 100, 2)\n",
    "    \n",
    "    # record accuracy\n",
    "    print(f\"The accuracy for a model trained with {n} PCs is {acc}.\")\n",
    "    accuracies.append(acc)\n",
    "    \n",
    "    print(\"------------------------------------------------------\")"
   ]
  },
  {
   "cell_type": "markdown",
   "id": "f8fa625e",
   "metadata": {},
   "source": [
    "#### Plot How the Different Models Compare"
   ]
  },
  {
   "cell_type": "code",
   "execution_count": 10,
   "id": "86a12d69",
   "metadata": {},
   "outputs": [
    {
     "data": {
      "image/png": "[encoded data removed]",
      "text/plain": [
       "<Figure size 720x1080 with 3 Axes>"
      ]
     },
     "metadata": {
      "needs_background": "light"
     },
     "output_type": "display_data"
    }
   ],
   "source": [
    "fig, axs = plt.subplots(3, figsize=(10, 15))\n",
    "\n",
    "# plot variance-retained against no. of PCs\n",
    "axs[0].plot(variances, n_components, '--ro')\n",
    "axs[0].set(ylabel=\"No. of components\")\n",
    "for v, n in zip(variances, n_components):\n",
    "    axs[0].annotate(n, xy=(v, n))\n",
    "\n",
    "# plot variance-retained against model accuracy on test set\n",
    "axs[1].plot(variances, accuracies, '--bo')\n",
    "axs[1].set(ylabel=\"Acc. on test set (%)\", ylim=(70, 100))\n",
    "\n",
    "# plot variance-retained against time taken to train model\n",
    "axs[2].plot(variances, time_intervals, '--go')\n",
    "axs[2].set(ylabel=\"Time taken to fit model (s)\")\n",
    "for v, t in zip(variances, time_intervals):\n",
    "    axs[2].annotate(t, xy=(v, t))\n",
    "\n",
    "# some common settings for each subplot\n",
    "for ax in axs:\n",
    "    ax.set(xlabel='Varaince Retained', xticks=variances)\n",
    "    ax.invert_xaxis()\n",
    "\n",
    "pass"
   ]
  },
  {
   "cell_type": "markdown",
   "id": "e3f2bf73",
   "metadata": {},
   "source": [
    "**Observations:**\n",
    "   \n",
    "We see that reducing the variance retained from 1.00 to 0.85, and as a result reducing the number of Principle Components from 784 to 178, to train our model barely affects the accuracy of our model to predict the test set while greatly lowers the time it takes to fit the model."
   ]
  },
  {
   "cell_type": "markdown",
   "id": "5cb35c08",
   "metadata": {},
   "source": [
    "#### Bonus: Predict a Random Test Set Example"
   ]
  },
  {
   "cell_type": "code",
   "execution_count": 11,
   "id": "fae4d1da",
   "metadata": {
    "scrolled": true
   },
   "outputs": [
    {
     "name": "stdout",
     "output_type": "stream",
     "text": [
      "Model prediction: 9\n"
     ]
    },
    {
     "data": {
      "image/png": "[encoded data removed]",
      "text/plain": [
       "<Figure size 432x288 with 1 Axes>"
      ]
     },
     "metadata": {
      "needs_background": "light"
     },
     "output_type": "display_data"
    }
   ],
   "source": [
    "# run this cell to test your model on a random example from the test set\n",
    "# using the last model we trained\n",
    "idx = np.random.choice(y_test.size)\n",
    "\n",
    "display_image(X_test, idx)\n",
    "pred = model.predict(Z_test_red[idx, :].reshape((1, -1)))\n",
    "print(f\"Model prediction: {pred[0]}\")"
   ]
  }
 ],
 "metadata": {
  "kernelspec": {
   "display_name": "Python 3",
   "language": "python",
   "name": "python3"
  },
  "language_info": {
   "codemirror_mode": {
    "name": "ipython",
    "version": 3
   },
   "file_extension": ".py",
   "mimetype": "text/x-python",
   "name": "python",
   "nbconvert_exporter": "python",
   "pygments_lexer": "ipython3",
   "version": "3.8.10"
  }
 },
 "nbformat": 4,
 "nbformat_minor": 5
}
